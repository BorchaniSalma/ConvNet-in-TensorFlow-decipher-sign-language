{
 "cells": [
  {
   "cell_type": "code",
   "execution_count": 25,
   "id": "06775c5a",
   "metadata": {},
   "outputs": [],
   "source": [
    "def commonChars(words):\n",
    "    \n",
    "    result = []\n",
    "    word1 = words[0]\n",
    "    for i in word1:\n",
    "        test = True\n",
    "        for word in words:\n",
    "            if i not in word:\n",
    "                test = False\n",
    "        if test == True:\n",
    "            result.append(i)\n",
    "    return result      "
   ]
  },
  {
   "cell_type": "code",
   "execution_count": 26,
   "id": "306b3aff",
   "metadata": {},
   "outputs": [
    {
     "name": "stdout",
     "output_type": "stream",
     "text": [
      "ool\n",
      "lok\n",
      "ook\n",
      "cl\n",
      "lck\n",
      "ck\n",
      "cl\n",
      "lck\n",
      "ck\n",
      "coo\n",
      "ock\n",
      "['c', 'o', 'o']\n"
     ]
    }
   ],
   "source": [
    "print(commonChars([\"cool\",\"lock\",\"cook\"]))"
   ]
  },
  {
   "cell_type": "code",
   "execution_count": null,
   "id": "f62d0844",
   "metadata": {},
   "outputs": [],
   "source": []
  }
 ],
 "metadata": {
  "kernelspec": {
   "display_name": "Python 3 (ipykernel)",
   "language": "python",
   "name": "python3"
  },
  "language_info": {
   "codemirror_mode": {
    "name": "ipython",
    "version": 3
   },
   "file_extension": ".py",
   "mimetype": "text/x-python",
   "name": "python",
   "nbconvert_exporter": "python",
   "pygments_lexer": "ipython3",
   "version": "3.11.5"
  }
 },
 "nbformat": 4,
 "nbformat_minor": 5
}
